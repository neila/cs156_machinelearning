{
 "cells": [
  {
   "cell_type": "code",
   "execution_count": 51,
   "metadata": {},
   "outputs": [],
   "source": [
    "#Main resource consulted:\n",
    "#http://codeaffectionate.blogspot.com/2013/05/fun-with-hopfield-and-numpy.html\n",
    "\n",
    "import numpy as np\n",
    "from pylab import imshow, cm, show\n",
    "import matplotlib.pyplot as plt"
   ]
  },
  {
   "cell_type": "markdown",
   "metadata": {},
   "source": [
    "Making some random data. Here I use three letters of my name."
   ]
  },
  {
   "cell_type": "code",
   "execution_count": 52,
   "metadata": {},
   "outputs": [],
   "source": [
    "S = \"\"\"\n",
    ".XXXX\n",
    "X....\n",
    ".XXX.\n",
    "....X\n",
    "XXXX.\n",
    "\"\"\"\n",
    " \n",
    "H = \"\"\"\n",
    "X...X\n",
    "X...X\n",
    "XXXXX\n",
    "X...X\n",
    "X...X\n",
    "\"\"\"\n",
    "\n",
    "O = \"\"\"\n",
    ".XXX.\n",
    "X...X\n",
    "X...X\n",
    "X...X\n",
    ".XXX.\n",
    "\"\"\""
   ]
  },
  {
   "cell_type": "code",
   "execution_count": 53,
   "metadata": {},
   "outputs": [],
   "source": [
    "def to_pattern(letter):\n",
    "    return np.array([+1 if c=='X' else -1 for c in letter.replace('\\n','')])\n",
    "\n",
    "def display(pattern):\n",
    "    imshow(pattern.reshape((5,5)),cmap=cm.binary, interpolation='nearest')\n",
    "    show()"
   ]
  },
  {
   "cell_type": "code",
   "execution_count": 54,
   "metadata": {},
   "outputs": [
    {
     "data": {
      "image/png": "[encoded data removed]",
      "text/plain": [
       "<Figure size 432x288 with 1 Axes>"
      ]
     },
     "metadata": {
      "needs_background": "light"
     },
     "output_type": "display_data"
    }
   ],
   "source": [
    "#example\n",
    "display(to_pattern(S))"
   ]
  },
  {
   "cell_type": "code",
   "execution_count": 55,
   "metadata": {},
   "outputs": [],
   "source": [
    "patterns = np.array([to_pattern(S), to_pattern(H), to_pattern(O)])"
   ]
  },
  {
   "cell_type": "code",
   "execution_count": 56,
   "metadata": {},
   "outputs": [],
   "source": [
    "def train(patterns):\n",
    "    row,col = patterns.shape\n",
    "    W = np.zeros((col,col))\n",
    "    for p in patterns:\n",
    "        W = W + np.outer(p,p)\n",
    "    W[np.diag_indices(col)] = 0\n",
    "    return W/row"
   ]
  },
  {
   "cell_type": "code",
   "execution_count": 57,
   "metadata": {},
   "outputs": [],
   "source": [
    "weights = train(patterns)"
   ]
  },
  {
   "cell_type": "code",
   "execution_count": 58,
   "metadata": {},
   "outputs": [],
   "source": [
    "def recall(W, pattern, steps=5, verbose=False):\n",
    "    sgn = np.vectorize(lambda x: -1 if x<0 else +1)\n",
    "    \n",
    "    for i in range(steps): \n",
    "        pattern = sgn(np.dot(pattern,W))\n",
    "        if verbose == True:\n",
    "            print(f\"After iteration {i}:\")\n",
    "            display(pattern)\n",
    "        \n",
    "    return pattern"
   ]
  },
  {
   "cell_type": "code",
   "execution_count": 62,
   "metadata": {},
   "outputs": [
    {
     "data": {
      "image/png": "[encoded data removed]",
      "text/plain": [
       "<Figure size 432x288 with 1 Axes>"
      ]
     },
     "metadata": {
      "needs_background": "light"
     },
     "output_type": "display_data"
    }
   ],
   "source": [
    "some_random_pattern = \"\"\"\n",
    ".X.X.\n",
    "X..X.\n",
    "...X.\n",
    "X.X..\n",
    "X.X.X\n",
    "\"\"\"\n",
    "display(to_pattern(some_random_pattern))"
   ]
  },
  {
   "cell_type": "code",
   "execution_count": 64,
   "metadata": {},
   "outputs": [
    {
     "name": "stdout",
     "output_type": "stream",
     "text": [
      "After iteration 0:\n"
     ]
    },
    {
     "data": {
      "image/png": "[encoded data removed]",
      "text/plain": [
       "<Figure size 432x288 with 1 Axes>"
      ]
     },
     "metadata": {
      "needs_background": "light"
     },
     "output_type": "display_data"
    },
    {
     "name": "stdout",
     "output_type": "stream",
     "text": [
      "After iteration 1:\n"
     ]
    },
    {
     "data": {
      "image/png": "[encoded data removed]",
      "text/plain": [
       "<Figure size 432x288 with 1 Axes>"
      ]
     },
     "metadata": {
      "needs_background": "light"
     },
     "output_type": "display_data"
    },
    {
     "data": {
      "text/plain": [
       "array([-1,  1,  1,  1,  1,  1, -1, -1, -1, -1, -1,  1,  1,  1, -1, -1, -1,\n",
       "       -1, -1,  1,  1,  1,  1,  1, -1])"
      ]
     },
     "execution_count": 64,
     "metadata": {},
     "output_type": "execute_result"
    }
   ],
   "source": [
    "recall(weights,to_pattern(some_random_pattern),2,True)"
   ]
  },
  {
   "cell_type": "markdown",
   "metadata": {},
   "source": [
    "After the second iteration we have already converged to S."
   ]
  },
  {
   "cell_type": "code",
   "execution_count": 68,
   "metadata": {},
   "outputs": [],
   "source": [
    "def generate_patterns(num, size):\n",
    "    patterns = []\n",
    "    for i in range(num):\n",
    "        patterns.append(np.random.choice((-1,1),size=size))\n",
    "    return patterns\n",
    "    \n",
    "def corrupt(pattern):\n",
    "    bad = np.random.randint((np.shape(pattern)[1]))\n",
    "    pattern[0][bad] = -pattern[0][bad]\n",
    "    return (pattern)\n",
    "\n",
    "def capacity(size):\n",
    "    \"\"\"\n",
    "    Generates corrupted patterns, trains on the patterns and\n",
    "    then tests if the network was able to correctly recall the\n",
    "    corrupted pattern.\n",
    "    \"\"\"\n",
    "    num = 1                   \n",
    "    \n",
    "    while True:\n",
    "        patterns = generate_patterns(num, size)\n",
    "        patterns = np.reshape(patterns, (num,size))\n",
    "\n",
    "        corrupt_patterns = [p for p in corrupt(patterns)]\n",
    "        corrupt_patterns = np.reshape(corrupt_patterns, (num,size))\n",
    "        \n",
    "        weights = train(patterns)\n",
    "        recalled_patterns = recall(weights, corrupt_patterns)\n",
    "\n",
    "        if np.any(np.not_equal(recalled_patterns,patterns)):\n",
    "            break\n",
    "        else:\n",
    "            num +=1 \n",
    "        \n",
    "    return num"
   ]
  },
  {
   "cell_type": "code",
   "execution_count": 72,
   "metadata": {},
   "outputs": [
    {
     "data": {
      "image/png": "[encoded data removed]",
      "text/plain": [
       "<Figure size 432x288 with 1 Axes>"
      ]
     },
     "metadata": {
      "needs_background": "light"
     },
     "output_type": "display_data"
    }
   ],
   "source": [
    "network_size = [x for x in range(10,500,10)]\n",
    "patternbox = []\n",
    "\n",
    "\n",
    "for size in network_size:\n",
    "    cap = []\n",
    "    for i in range(10): #per size average over 10 samples\n",
    "        cap.append(capacity(size))\n",
    "    avcap = np.average(cap)\n",
    "    patternbox.append(avcap)\n",
    "\n",
    "plt.plot(netw_size, patternbox)\n",
    "plt.xlabel(\"Network Size\")\n",
    "plt.ylabel(\"Number of patterns accurately stored and recalled\")\n",
    "plt.show()"
   ]
  },
  {
   "cell_type": "markdown",
   "metadata": {},
   "source": [
    "We see that the number of patterns stored and recalled are roughly proportional to the network size. "
   ]
  },
  {
   "cell_type": "code",
   "execution_count": null,
   "metadata": {},
   "outputs": [],
   "source": []
  }
 ],
 "metadata": {
  "kernelspec": {
   "display_name": "Python 3",
   "language": "python",
   "name": "python3"
  },
  "language_info": {
   "codemirror_mode": {
    "name": "ipython",
    "version": 3
   },
   "file_extension": ".py",
   "mimetype": "text/x-python",
   "name": "python",
   "nbconvert_exporter": "python",
   "pygments_lexer": "ipython3",
   "version": "3.7.5"
  }
 },
 "nbformat": 4,
 "nbformat_minor": 2
}
